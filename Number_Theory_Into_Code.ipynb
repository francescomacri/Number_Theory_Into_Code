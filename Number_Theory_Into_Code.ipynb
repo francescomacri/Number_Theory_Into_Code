{
 "cells": [
  {
   "cell_type": "code",
   "execution_count": 2,
   "id": "6e022d33",
   "metadata": {},
   "outputs": [
    {
     "name": "stdout",
     "output_type": "stream",
     "text": [
      "287 in hexadecimal notation is 11F.\n"
     ]
    }
   ],
   "source": [
    "def decimal_to_hexadecimal(decimal):\n",
    "    if decimal == 0:\n",
    "        return \"0\"\n",
    "\n",
    "    hexadecimal = \"\"\n",
    "    while decimal > 0:\n",
    "        remainder = decimal % 16\n",
    "        if remainder < 10:\n",
    "            hexadecimal = str(remainder) + hexadecimal\n",
    "        else:\n",
    "            hexadecimal = chr(65 + remainder - 10) + hexadecimal\n",
    "        decimal //= 16\n",
    "\n",
    "    return hexadecimal\n",
    "\n",
    "\n",
    "def main():\n",
    "    a = int(\n",
    "        input(\n",
    "            \"Please insert the decimal number you want to transform into hexadecimal: \"\n",
    "        )\n",
    "    )\n",
    "    print(f\"{a} in hexadecimal notation is {decimal_to_hexadecimal(a)}.\")\n",
    "\n",
    "\n",
    "if __name__ == \"__main__\":\n",
    "    main()"
   ]
  }
 ],
 "metadata": {
  "kernelspec": {
   "display_name": "Python 3 (ipykernel)",
   "language": "python",
   "name": "python3"
  },
  "language_info": {
   "codemirror_mode": {
    "name": "ipython",
    "version": 3
   },
   "file_extension": ".py",
   "mimetype": "text/x-python",
   "name": "python",
   "nbconvert_exporter": "python",
   "pygments_lexer": "ipython3",
   "version": "3.9.7"
  }
 },
 "nbformat": 4,
 "nbformat_minor": 5
}
