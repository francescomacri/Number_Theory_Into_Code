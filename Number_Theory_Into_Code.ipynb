{
 "cells": [
  {
   "attachments": {},
   "cell_type": "markdown",
   "id": "d4bc5a85-f996-4b94-82cc-a0667fde5a8b",
   "metadata": {},
   "source": [
    "# Number Theory Into Code"
   ]
  },
  {
   "attachments": {},
   "cell_type": "markdown",
   "id": "e8b424e2",
   "metadata": {},
   "source": [
    "## Table of Contents\n",
    "<a href='#1-euclidean-algorithm'>Euclidean Algorithm</a>"
   ]
  },
  {
   "attachments": {},
   "cell_type": "markdown",
   "id": "010da6f7",
   "metadata": {},
   "source": [
    "1. [Euclidean Algorithm](#1-euclidean-algorithm)"
   ]
  },
  {
   "attachments": {},
   "cell_type": "markdown",
   "id": "7de87be5",
   "metadata": {},
   "source": [
    "2. [Decimal to Binary Conversion Using Repeated Division by 2](#2-decimal-to-binary-conversion-using-repeated-division-by-2)"
   ]
  },
  {
   "attachments": {},
   "cell_type": "markdown",
   "id": "5b7387e0",
   "metadata": {},
   "source": [
    "<a name=\"#1-euclidean-algorithm\\\"></a>"
   ]
  },
  {
   "attachments": {},
   "cell_type": "markdown",
   "id": "a9669882",
   "metadata": {},
   "source": [
    "## 1. Euclidean Algorithm <a name=\"#1-euclidean-algorithm\\\"></a>"
   ]
  },
  {
   "attachments": {},
   "cell_type": "markdown",
   "id": "0e5ee2d2",
   "metadata": {},
   "source": [
    "Given two integers $A$ and $B$ with $A > B \\geqslant 0$, this algorithm computes gcd($A, B$). It is based on two facts: \n",
    "\n",
    "1. gcd($a, b$) = gcd($b, r$) if $a, b, q,$ and $r$ are integers with $a = b \\cdot q + r$ and $0 \\leqslant r < b$.\n",
    "2. gcd($a, 0$) = $a$."
   ]
  },
  {
   "attachments": {},
   "cell_type": "markdown",
   "id": "5e1eed59",
   "metadata": {},
   "source": [
    "_**From**_: Susanna S. Epp, Discrete Mathematics with Applications, Metric Version, 2020 Australia, page 254."
   ]
  },
  {
   "attachments": {},
   "cell_type": "markdown",
   "id": "e8130320",
   "metadata": {},
   "source": [
    "_Sample solution in Python_:"
   ]
  },
  {
   "cell_type": "code",
   "execution_count": 5,
   "id": "3e790d61-c31b-4799-a748-dcefe7b82a97",
   "metadata": {},
   "outputs": [
    {
     "name": "stdout",
     "output_type": "stream",
     "text": [
      "The gcd of 48 and 16 is 16.\n"
     ]
    }
   ],
   "source": [
    "def euclid(a, b):\n",
    "    while b != 0:\n",
    "        r = a % b\n",
    "        if r == 0:\n",
    "            return b\n",
    "        else:\n",
    "            a = b\n",
    "            b = r\n",
    "    return\n",
    "\n",
    "\n",
    "def main():\n",
    "    a = int(input(\"Integer a:\"))\n",
    "    b = int(input(\"Integer b:\"))\n",
    "    print(f\"The gcd of {a} and {b} is {euclid(a, b)}.\")\n",
    "\n",
    "\n",
    "if __name__ == \"__main__\":\n",
    "    main()"
   ]
  },
  {
   "attachments": {},
   "cell_type": "markdown",
   "id": "aabbc3bb-19e2-4e6d-84c1-cbffbd3f9660",
   "metadata": {},
   "source": [
    "## 2. Decimal to Binary Conversion Using Repeated Division by 2 <a name=\"2-decimal-to-binary-conversion-using-repeated-division-by-2\"></a>"
   ]
  },
  {
   "attachments": {},
   "cell_type": "markdown",
   "id": "88ce6d8b",
   "metadata": {},
   "source": [
    "In this algorithm the input is a nonnegative integer $a$. The aim of this algorithm is to produce a sequence of binary digits $r[0],r[1],r[2], \\dots , r[k]$ so that the binary representation of $n$ is: \n",
    "\n",
    "$$ a = 2^{k} \\cdot r[k] + 2^{k-1} \\cdot r[k-1] + \\cdots + 2^{2} \\cdot r[2] + 2^{1} \\cdot r[1] + 2^{0} \\cdot r[0].$$\n",
    "\n",
    "_**From**_: Susanna S. Epp, Discrete Mathematics with Applications, Metric Version, 2020 Australia, pages 272-273."
   ]
  },
  {
   "attachments": {},
   "cell_type": "markdown",
   "id": "10aa7229",
   "metadata": {},
   "source": [
    "_Sample solution in Python_:"
   ]
  },
  {
   "cell_type": "code",
   "execution_count": 1,
   "id": "bb065882",
   "metadata": {},
   "outputs": [
    {
     "name": "stdout",
     "output_type": "stream",
     "text": [
      "20 in binary notation is 10100.\n"
     ]
    }
   ],
   "source": [
    "n = []\n",
    "\n",
    "\n",
    "def decimal_to_binary_list(a):\n",
    "    while a != 0:\n",
    "        r = a % 2\n",
    "        n.append(r)\n",
    "        a = a // 2\n",
    "    return n\n",
    "\n",
    "\n",
    "def reverse_list_to_integer(n):\n",
    "    reversed_string = \"\".join(str(element) for element in n[::-1])\n",
    "    transformed = int(reversed_string)\n",
    "    return transformed\n",
    "\n",
    "\n",
    "def main():\n",
    "    a = int(\n",
    "        input(\"Please insert the decimal number you want to transform into binary: \")\n",
    "    )\n",
    "    print(\n",
    "        f\"{a} in binary notation is {reverse_list_to_integer(decimal_to_binary_list(a))}.\"\n",
    "    )\n",
    "\n",
    "\n",
    "if __name__ == \"__main__\":\n",
    "    main()"
   ]
  },
  {
   "attachments": {},
   "cell_type": "markdown",
   "id": "7e374e21",
   "metadata": {},
   "source": [
    "The same algorithm can be used with a different base in order to convert decimal numbers into numbers with other bases, e. g. base 16 to convert a decimal number into a hexadecimal number. \n",
    "\n",
    "Here is the sample solution in Python:"
   ]
  },
  {
   "cell_type": "code",
   "execution_count": 2,
   "id": "6e022d33",
   "metadata": {},
   "outputs": [
    {
     "name": "stdout",
     "output_type": "stream",
     "text": [
      "287 in hexadecimal notation is 11F.\n"
     ]
    }
   ],
   "source": [
    "def decimal_to_hexadecimal(decimal):\n",
    "    if decimal == 0:\n",
    "        return \"0\"\n",
    "\n",
    "    hexadecimal = \"\"\n",
    "    while decimal > 0:\n",
    "        remainder = decimal % 16\n",
    "        if remainder < 10:\n",
    "            hexadecimal = str(remainder) + hexadecimal\n",
    "        else:\n",
    "            hexadecimal = chr(65 + remainder - 10) + hexadecimal\n",
    "        decimal //= 16\n",
    "\n",
    "    return hexadecimal\n",
    "\n",
    "\n",
    "def main():\n",
    "    a = int(\n",
    "        input(\n",
    "            \"Please insert the decimal number you want to transform into hexadecimal: \"\n",
    "        )\n",
    "    )\n",
    "    print(f\"{a} in hexadecimal notation is {decimal_to_hexadecimal(a)}.\")\n",
    "\n",
    "\n",
    "if __name__ == \"__main__\":\n",
    "    main()"
   ]
  }
 ],
 "metadata": {
  "kernelspec": {
   "display_name": "Python 3 (ipykernel)",
   "language": "python",
   "name": "python3"
  },
  "language_info": {
   "codemirror_mode": {
    "name": "ipython",
    "version": 3
   },
   "file_extension": ".py",
   "mimetype": "text/x-python",
   "name": "python",
   "nbconvert_exporter": "python",
   "pygments_lexer": "ipython3",
   "version": "3.10.2"
  }
 },
 "nbformat": 4,
 "nbformat_minor": 5
}
